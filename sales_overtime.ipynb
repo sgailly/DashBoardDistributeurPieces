{
 "cells": [
  {
   "cell_type": "markdown",
   "metadata": {},
   "source": [
    "## Formatting data and prepare for Prophet prediction"
   ]
  },
  {
   "cell_type": "code",
   "execution_count": 1,
   "metadata": {},
   "outputs": [],
   "source": [
    "import pandas as pd\n",
    "\n",
    "# import dataframe\n",
    "df = pd.read_csv('sales_overtime.csv')\n",
    "# get rid of the month of june that only contains 1st of June\n",
    "df.drop(df.tail(1).index,inplace=True) \n",
    "# format date column to datetime\n",
    "df['date_mvt'] = pd.to_datetime(df['date_mvt'],format='%Y-%m-%d %H:%M:%S.%f UTC') \n",
    "# group by month on date column\n",
    "df2 = df.groupby(pd.Grouper(key='date_mvt', axis=0,  freq='M')).sum() \n",
    "# get months out of index column back into df\n",
    "df2.reset_index(inplace=True) \n",
    "# get rid of the first 2 months because outliers compared to rest of data\n",
    "df2.drop(df.head(2).index,inplace=True) \n",
    "\n",
    "import plotly.express as px\n",
    "# plot the total monthly revenue of the company overtime \n",
    "fig = px.line(df2,x='date_mvt',y='total_revenues') \n",
    "\n",
    "import matplotlib.pyplot as plt\n",
    "\n",
    "from prophet import Prophet\n",
    "from prophet.diagnostics import cross_validation, performance_metrics\n",
    "from prophet.plot import plot_cross_validation_metric\n",
    "\n",
    "from statsmodels.tsa.seasonal import seasonal_decompose\n",
    "\n",
    "import logging\n",
    "logging.getLogger('prophet').setLevel(logging.ERROR)\n",
    "import warnings\n",
    "warnings.filterwarnings(\"ignore\")\n",
    "\n",
    "# prepare df for times series predictions\n",
    "df2.columns = ['ds', 'y'] \n",
    "\n",
    "# get the df into two train and test sets\n",
    "train = df2.iloc[:105]\n",
    "test = df2.iloc[105:]\n",
    "\n",
    "train.shape, test.shape\n",
    "\n",
    "# set the index for the function seasonal_decompose to work\n",
    "df2.set_index(\"ds\", inplace = True)\n",
    "\n",
    "# Additive Decomposition (y = Trend + Seasonal + Residuals)\n",
    "result_add = seasonal_decompose(df2['y'], model='additive')\n",
    "result_add.plot();\n",
    "\n",
    "# Multiplicative Decomposition (y = Trend * Seasonal * Residuals)\n",
    "result_mul = seasonal_decompose(df2['y'], model='multiplicative')\n",
    "result_mul.plot();"
   ]
  },
  {
   "cell_type": "markdown",
   "metadata": {},
   "source": [
    "## Create a multiplicative model (without taking Covid into account)"
   ]
  },
  {
   "cell_type": "code",
   "execution_count": 16,
   "metadata": {},
   "outputs": [
    {
     "name": "stderr",
     "output_type": "stream",
     "text": [
      "10:29:53 - cmdstanpy - INFO - Chain [1] start processing\n",
      "10:29:53 - cmdstanpy - INFO - Chain [1] done processing\n"
     ]
    },
    {
     "data": {
      "text/plain": [
       "<prophet.forecaster.Prophet at 0x177cc31d0>"
      ]
     },
     "execution_count": 16,
     "metadata": {},
     "output_type": "execute_result"
    }
   ],
   "source": [
    "# Create and fit model\n",
    "model = Prophet(seasonality_mode='multiplicative', interval_width=0.95)\n",
    "model.fit(train)\n",
    "\n",
    "horizon = 36      # number of data points we want to forecast in the future (starting from the end of TRAIN)\n",
    "\n",
    "future = model.make_future_dataframe(periods=horizon, freq='M') # create first column for forecast dataframe\n",
    "\n",
    "forecast = model.predict(future) # create forcast dataframe using prediction from the model fitted on train\n",
    "\n",
    "ax = model.plot(forecast) # visualize forecast with trend and lower&upper windows\n",
    "\n",
    "model.plot_components(forecast); # visualize forecast components (trend and yearly seasonality)\n",
    "\n",
    "# plot train, test and forecast on one plot\n",
    "plt.figure(figsize=(15, 8))\n",
    "plt.plot(train['ds'], train['y'], label=\"Train\")\n",
    "plt.plot(test['ds'], test['y'], label=\"Test\")\n",
    "plt.plot(forecast[-horizon:]['ds'], forecast[-horizon:]['yhat'], label=\"predictions\")\n",
    "plt.legend(loc=\"best\")\n",
    "plt.show()"
   ]
  },
  {
   "cell_type": "markdown",
   "metadata": {},
   "source": [
    "## Create a multiplicative model (taking Covid into account)"
   ]
  },
  {
   "cell_type": "code",
   "execution_count": 23,
   "metadata": {},
   "outputs": [
    {
     "name": "stderr",
     "output_type": "stream",
     "text": [
      "10:29:53 - cmdstanpy - INFO - Chain [1] start processing\n",
      "10:29:53 - cmdstanpy - INFO - Chain [1] done processing\n"
     ]
    }
   ],
   "source": [
    "# modify model to include exception over covid time\n",
    "# create df for lockdowns periods\n",
    "lockdowns = pd.DataFrame([\n",
    "    {'holiday': 'lockdown_1', 'ds': '2020-03-17', 'lower_window': 0, 'ds_upper': '2020-06-02'},\n",
    "    {'holiday': 'lockdown_2', 'ds': '2020-10-30', 'lower_window': 0, 'ds_upper': '2020-12-15'},\n",
    "    {'holiday': 'lockdown_3', 'ds': '2021-04-03', 'lower_window': 0, 'ds_upper': '2021-05-19'},\n",
    "])\n",
    "for t_col in ['ds', 'ds_upper']:\n",
    "    lockdowns[t_col] = pd.to_datetime(lockdowns[t_col])\n",
    "lockdowns['upper_window'] = (lockdowns['ds_upper'] - lockdowns['ds']).dt.days\n",
    "lockdowns\n",
    "\n",
    "# Create and fit model\n",
    "model2 = Prophet(holidays=lockdowns,seasonality_mode='multiplicative', interval_width=0.95) \n",
    "model2 = model2.fit(train)\n",
    "future2 = model2.make_future_dataframe(periods=horizon, freq='M')\n",
    "forecast2 = model2.predict(future2)\n",
    "\n",
    "ax2 = model2.plot(forecast2) # visualize forecast with trend and lower&upper windows\n",
    "\n",
    "model2.plot_components(forecast2); # visualize forecast components (trend, yearly seasonality and lockdowns)\n",
    "\n",
    "# Visualize breaks of trend\n",
    "from prophet.plot import add_changepoints_to_plot\n",
    "fig = model2.plot(forecast2)\n",
    "a = add_changepoints_to_plot(fig.gca(), model2, forecast2)\n",
    "\n",
    "# plot train, test and forecast on one plot\n",
    "plt.figure(figsize=(15, 8))\n",
    "plt.plot(train['ds'], train['y'], label=\"Train\")\n",
    "plt.plot(test['ds'], test['y'], label=\"Test\")\n",
    "plt.plot(forecast2[-horizon:]['ds'], forecast2[-horizon:]['yhat'], label=\"predictions\")\n",
    "plt.legend(loc=\"best\")\n",
    "plt.show()"
   ]
  }
 ],
 "metadata": {
  "kernelspec": {
   "display_name": "base",
   "language": "python",
   "name": "python3"
  },
  "language_info": {
   "codemirror_mode": {
    "name": "ipython",
    "version": 3
   },
   "file_extension": ".py",
   "mimetype": "text/x-python",
   "name": "python",
   "nbconvert_exporter": "python",
   "pygments_lexer": "ipython3",
   "version": "3.11.7"
  }
 },
 "nbformat": 4,
 "nbformat_minor": 2
}
